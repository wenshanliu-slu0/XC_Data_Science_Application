{
  "nbformat": 4,
  "nbformat_minor": 0,
  "metadata": {
    "colab": {
      "provenance": []
    },
    "kernelspec": {
      "name": "python3",
      "display_name": "Python 3"
    },
    "language_info": {
      "name": "python"
    }
  },
  "cells": [
    {
      "cell_type": "markdown",
      "source": [
        "## Importing Necessary Libraries"
      ],
      "metadata": {
        "id": "l7WCtuV6QtDs"
      }
    },
    {
      "cell_type": "code",
      "source": [
        "# !pip install biopython"
      ],
      "metadata": {
        "id": "E2-cLvNYUGlR"
      },
      "execution_count": null,
      "outputs": []
    },
    {
      "cell_type": "markdown",
      "source": [
        "* If not installed, uncomment the line and install the library"
      ],
      "metadata": {
        "id": "4kTcwnxHXoZX"
      }
    },
    {
      "cell_type": "code",
      "source": [
        "# These libraries needs to reinstalled every time when running in colab environment\n",
        "# Run this cell and restart & run all when running on colab\n",
        "%%capture --no-stderr\n",
        "%pip install numpy==1.26.4 langchain-community langchain-openai langchain-chroma gradio-client gradio==3.38.0 language_tool_python xmltodict\n",
        "!apt-get update -qq\n",
        "!apt-get install -qq openjdk-17-jdk-headless"
      ],
      "metadata": {
        "id": "2jZBL-4jEkza"
      },
      "execution_count": null,
      "outputs": []
    },
    {
      "cell_type": "code",
      "execution_count": null,
      "metadata": {
        "colab": {
          "base_uri": "https://localhost:8080/"
        },
        "id": "ehEKBcQ15dcq",
        "outputId": "ac307c0d-129f-4efa-e950-b7780c06259b"
      },
      "outputs": [
        {
          "output_type": "stream",
          "name": "stderr",
          "text": [
            "WARNING:langchain_community.utils.user_agent:USER_AGENT environment variable not set, consider setting it to identify your requests.\n"
          ]
        },
        {
          "output_type": "stream",
          "name": "stdout",
          "text": [
            "Mounted at /content/drive\n"
          ]
        }
      ],
      "source": [
        "# Library to ignore warnings\n",
        "import warnings\n",
        "warnings.filterwarnings('ignore')\n",
        "\n",
        "# Web scraping and HTML parsing\n",
        "from bs4 import BeautifulSoup\n",
        "from urllib.request import Request, urlopen\n",
        "import requests\n",
        "\n",
        "# File and system operations\n",
        "import os\n",
        "\n",
        "# Time-related functions\n",
        "import time\n",
        "\n",
        "# LangChain libraries for natural language processing\n",
        "from langchain_community.document_loaders import WebBaseLoader  # Loading documents from the web\n",
        "from langchain_text_splitters import RecursiveCharacterTextSplitter  # Text splitting methods\n",
        "from langchain_openai import ChatOpenAI, OpenAIEmbeddings  # Integrating with OpenAI for LLM and embeddings\n",
        "from langchain_chroma.vectorstores import Chroma  # Vector store operations\n",
        "from langchain.memory import ConversationBufferMemory  # Memory management for conversational agents\n",
        "from langchain_core.prompts import ChatPromptTemplate, MessagesPlaceholder  # Templates and placeholders for prompts\n",
        "from langchain_core.messages import HumanMessage, AIMessage # Designating Human Message and AI Message\n",
        "from langchain_community.retrievers import PubMedRetriever # A pre-built retriever based on The National Center for Biotechnology Information and National Library of Medicine\n",
        "from langchain.chains.combine_documents import create_stuff_documents_chain  # Document processing chain creation\n",
        "from langchain.chains import create_history_aware_retriever, create_retrieval_chain  # Creating retrieval chains\n",
        "from langchain.agents import Tool, AgentType, initialize_agent  # Agent and tool initialization\n",
        "\n",
        "# Spelling/Grammar checker tool\n",
        "import language_tool_python # Grammar & typo checker\n",
        "\n",
        "# Gradio for creating UI components\n",
        "import gradio as gr\n",
        "\n",
        "# Google Drive integration\n",
        "from google.colab import drive\n",
        "drive.mount('/content/drive')\n"
      ]
    },
    {
      "cell_type": "markdown",
      "source": [
        "## Working Environment Set Up"
      ],
      "metadata": {
        "id": "UJxg41mf44A0"
      }
    },
    {
      "cell_type": "code",
      "source": [
        "# Setting base path of the n\n",
        "base_path = '/content/drive/MyDrive/Project/Project/DEMO_APP_Medicine_info/notebooks/' # <- change this to your own base path where you keep the notebook and constant.py\n",
        "os.chdir(base_path)"
      ],
      "metadata": {
        "id": "WlXvY0fvTKnP"
      },
      "execution_count": null,
      "outputs": []
    },
    {
      "cell_type": "code",
      "source": [
        "# Importing API keys and tokens from constant.py file\n",
        "from constant import (OPENAI_API_KEY, LANGSMITH_API_KEY, HF_TOKEN)\n",
        "\n",
        "# Setting environment variables for APIs and other configurations\n",
        "os.environ['OPENAI_API_KEY'] = OPENAI_API_KEY  # Assign OpenAI API key to environment variable\n",
        "os.environ[\"LANGSMITH_TRACING\"] = \"true\"  # Enable tracing for Langsmith\n",
        "os.environ['LANGSMITH_API_KEY'] = LANGSMITH_API_KEY  # Assign Langsmith API key to environment variable\n",
        "os.environ['HF_TOKEN'] = HF_TOKEN  # Assign Hugging Face token to environment variable\n",
        "os.environ['USER_AGENT'] = 'Mozilla/5.0'  # Set custom user agent for web requests\n",
        "\n",
        "# Printing the first 5 characters of each API key for verification\n",
        "print(OPENAI_API_KEY[:5])  # Print the first 5 characters of the OpenAI API key\n",
        "print(LANGSMITH_API_KEY[:5])  # Print the first 5 characters of the Langsmith API key"
      ],
      "metadata": {
        "colab": {
          "base_uri": "https://localhost:8080/"
        },
        "id": "JdJ1FEx8FkwC",
        "outputId": "090dfdf0-5977-4035-fc56-31d6c2ac3e23"
      },
      "execution_count": null,
      "outputs": [
        {
          "output_type": "stream",
          "name": "stdout",
          "text": [
            "sk-pr\n",
            "lsv2_\n"
          ]
        }
      ]
    },
    {
      "cell_type": "markdown",
      "source": [
        "## Extract the Documents from Cancer.gov"
      ],
      "metadata": {
        "id": "HKqYan9-48-P"
      }
    },
    {
      "cell_type": "code",
      "source": [
        "# Function to get sitemap from the url\n",
        "\n",
        "def get_sitemap(url):\n",
        "\n",
        "    try:\n",
        "        # Make a request to the website for sitemap\n",
        "        req = Request(\n",
        "            url = url,\n",
        "            # The headers for the request, specifying a custom User-Agent\n",
        "            headers={'User-Agent': 'Mozilla/5.0'}\n",
        "        )\n",
        "        # Returns HTTP response object\n",
        "        response = urlopen(req)\n",
        "\n",
        "        # Get the character encoding from the response headers, default to utf-8 if not specified\n",
        "        encoding = response.headers.get_content_charset('utf-8')\n",
        "\n",
        "        # Read the response data and decode it using the detected ecnoding\n",
        "        xml_data = response.read().decode(encoding)\n",
        "\n",
        "        # Parse the XML data to make it easier to work\n",
        "        xml_soup = BeautifulSoup(xml_data, \"xml\")\n",
        "\n",
        "        # Return parsed XML data\n",
        "        return xml_soup\n",
        "\n",
        "    except Exception as e:\n",
        "        print(f\"Error fetching sitemap: {e}\")\n",
        "        return None"
      ],
      "metadata": {
        "id": "iQ7wDfsn_z9U"
      },
      "execution_count": null,
      "outputs": []
    },
    {
      "cell_type": "code",
      "source": [
        "# Function to get xmls related to breast cancer\n",
        "\n",
        "def get_urls(xml):\n",
        "  # Empty list to store urls\n",
        "  urls = []\n",
        "  # Iterate through each url tag in XML\n",
        "  for url in xml.find_all('url'):\n",
        "    # Extract the text (url) from the loc tag\n",
        "    if url.find('loc'):\n",
        "      # Check if the url contains the world breast and not video\n",
        "      loc = url.find_next('loc').text\n",
        "      if 'breast' in loc and 'video' not in loc:\n",
        "        # Add the URLs into the list if conditions are met\n",
        "        urls.append(loc)\n",
        "\n",
        "  # Return urls\n",
        "  return urls"
      ],
      "metadata": {
        "id": "2u7ZfsVP_7r2"
      },
      "execution_count": null,
      "outputs": []
    },
    {
      "cell_type": "code",
      "source": [
        "# Retrieve documents with breast cancer\n",
        "url = \"https://www.cancer.gov/sitemaps/pageinstructions.xml\"\n",
        "xml = get_sitemap(url)\n",
        "urls = get_urls(xml)"
      ],
      "metadata": {
        "id": "u84SOxrPBOFK"
      },
      "execution_count": null,
      "outputs": []
    },
    {
      "cell_type": "code",
      "source": [
        "# Categorize urls based on file type\n",
        "\n",
        "# Initialize an empty dictionary with rooms for different formats\n",
        "categorized_urls = {\n",
        "    \"pdf\": [],\n",
        "    \"epub\": [],\n",
        "    \"mobi\": [],\n",
        "    \"html\": [],\n",
        "}\n",
        "\n",
        "# Iterate through the list and store the urls with the corresponding formats\n",
        "for url in urls:\n",
        "    if url.endswith(\".pdf\"):\n",
        "        categorized_urls[\"pdf\"].append(url)\n",
        "    elif url.endswith(\".epub\"):\n",
        "        categorized_urls[\"epub\"].append(url)\n",
        "    elif url.endswith(\".mobi\"):\n",
        "        categorized_urls[\"mobi\"].append(url)\n",
        "    else:\n",
        "        categorized_urls[\"html\"].append(url)"
      ],
      "metadata": {
        "id": "i4p0d9NOCTNH"
      },
      "execution_count": null,
      "outputs": []
    },
    {
      "cell_type": "code",
      "source": [
        "# Find the PDF files from the HTLML\n",
        "pdf_urls = []\n",
        "\n",
        "for url in categorized_urls['html']:\n",
        "    try:\n",
        "        response = requests.get(url, timeout = 10)\n",
        "        content_type = response.headers.get(\"Content-Type\", \"\")\n",
        "\n",
        "        if \"pdf\" in content_type.lower():\n",
        "            pdf_urls.append(url)\n",
        "            print(f\"Found PDF: {url}\")\n",
        "\n",
        "        time.sleep(1)\n",
        "\n",
        "    except Exception as e:\n",
        "        print(f\" Error fetching {url}: {e}\")"
      ],
      "metadata": {
        "colab": {
          "base_uri": "https://localhost:8080/"
        },
        "id": "zTLP839ML6O8",
        "outputId": "ae1084a9-8684-4e93-cbbe-d0006d61e87e"
      },
      "execution_count": null,
      "outputs": [
        {
          "output_type": "stream",
          "name": "stdout",
          "text": [
            "Found PDF: https://www.cancer.gov/about-nci/organization/ccct/steering-committees/nctn/breast-cancer/nciboldradiationcdesrev\n",
            "Found PDF: https://www.cancer.gov/grants-training/training/resources-trainees/courses-fellowships/2021-traco-breast-cancer\n",
            "Found PDF: https://www.cancer.gov/grants-training/training/resources-trainees/courses-fellowships/traco-breast-cancer\n",
            "Found PDF: https://www.cancer.gov/grants-training/training/resources-trainees/courses-fellowships/traco-breast-cancer-2023\n"
          ]
        }
      ]
    },
    {
      "cell_type": "code",
      "source": [
        "# Remove those findings from HTML and add them to PDF\n",
        "categorized_urls[\"html\"] = [url for url in categorized_urls[\"html\"] if url not in pdf_urls]\n",
        "categorized_urls[\"pdf\"].extend(pdf_urls)"
      ],
      "metadata": {
        "id": "PlygjaunO3l0"
      },
      "execution_count": null,
      "outputs": []
    },
    {
      "cell_type": "markdown",
      "source": [
        "## Retriever Set Up: Langchain"
      ],
      "metadata": {
        "id": "xu-lNySn5C3V"
      }
    },
    {
      "cell_type": "markdown",
      "source": [
        "LangChain is a framework for developing applications powered by large language models (LLMs)."
      ],
      "metadata": {
        "id": "5o_DusEsjDlb"
      }
    },
    {
      "cell_type": "code",
      "source": [
        "# Load the documents from the extracted urls\n",
        "\n",
        "# Initialize an empty list to store web documents\n",
        "docs = []\n",
        "\n",
        "# Check the loading process\n",
        "for i, url in enumerate(categorized_urls['html']):\n",
        "  loader = WebBaseLoader(url).load()\n",
        "  docs.extend(loader)\n",
        "  if i != 0 and i % 10 == 0:\n",
        "    print(f'{i} html documents are loaded')\n",
        "\n",
        "print('All html documents are loaded')"
      ],
      "metadata": {
        "colab": {
          "base_uri": "https://localhost:8080/"
        },
        "id": "Ifz3ASgkCmG8",
        "outputId": "1514e24b-8284-4b23-c497-e62bce9501e3"
      },
      "execution_count": null,
      "outputs": [
        {
          "output_type": "stream",
          "name": "stdout",
          "text": [
            "10 html documents are loaded\n",
            "20 html documents are loaded\n",
            "30 html documents are loaded\n",
            "40 html documents are loaded\n",
            "50 html documents are loaded\n",
            "60 html documents are loaded\n",
            "70 html documents are loaded\n",
            "80 html documents are loaded\n",
            "All html documents are loaded\n"
          ]
        }
      ]
    },
    {
      "cell_type": "markdown",
      "source": [
        "* All documents are successfully loaded!"
      ],
      "metadata": {
        "id": "NXBj9rNRXmE-"
      }
    },
    {
      "cell_type": "code",
      "source": [
        "# Initialize the text splitter to break the documents into smaller chuncks\n",
        "text_splitter = RecursiveCharacterTextSplitter(chunk_size = 1000, chunk_overlap = 200)\n",
        "\n",
        "# Split the documents for manageable chuncks for efficient processing\n",
        "documents = text_splitter.split_documents(docs)\n",
        "\n",
        "# Initialize OPENAI's embedding model\n",
        "embedding = OpenAIEmbeddings()\n",
        "\n",
        "# Create a vector database with documents and embeddings\n",
        "vector_db = Chroma.from_documents(documents = documents, embedding = embedding)"
      ],
      "metadata": {
        "id": "X7OBj3fwWZ_S"
      },
      "execution_count": null,
      "outputs": []
    },
    {
      "cell_type": "markdown",
      "source": [
        "**Vector Database Workflow**\n",
        "\n",
        "1. Load Source Data\n",
        "* Source data can be various formats including documents (text, HTML, CSV) or media files.\n",
        "* The data is loaded, transformed, and embedded.\n",
        "* Embedding process is where the textual human language are converted in numerical vectors (embeddings) for the machine to understand.\n",
        "\n",
        "\n",
        "**2. Query the Vector Store**\n",
        "* After the source data is processed and stored, a query is made from the user, which is typically texts related to the user is looking for.\n",
        "* The query is embedded and the resulting vector is used to search for the most similar vectors from the vector store.\n",
        "\n",
        "\n",
        "**3. Retrieve the most similar result**\n",
        "* Techniques like cosine similarity or euclidean distance is used to retrieve the vectors that are most similar to to the query vector."
      ],
      "metadata": {
        "id": "gd2jyIGZZNJ4"
      }
    },
    {
      "cell_type": "code",
      "source": [
        "# A simple test to search vectors to find 3 most relevant documents for the input\n",
        "vector_db.similarity_search('risk factor', k = 3)"
      ],
      "metadata": {
        "id": "RWLJLsvHYe_C",
        "colab": {
          "base_uri": "https://localhost:8080/"
        },
        "outputId": "f60a30c7-f191-4422-b0f6-62c2bb8386e3"
      },
      "execution_count": null,
      "outputs": [
        {
          "output_type": "execute_result",
          "data": {
            "text/plain": [
              "[Document(id='6284dac6-03c4-4fb7-9a09-15b3c9b237fe', metadata={'description': 'Risk factors for breast cancer are female sex and advancing age, inherited risk, breast density, obesity, alcohol consumption, and exposure to ionizing radiation. Interventions to prevent breast cancer include chemoprevention (e.g. SERMs, AIs), risk-reducing surgery (e.g. mastectomy, oophorectomy). Review the evidence on risk factors and interventions to prevent breast cancer in this expert-reviewed summary.', 'language': 'en', 'source': 'https://www.cancer.gov/types/breast/hp/breast-prevention-pdq', 'title': 'Breast Cancer Prevention (PDQ®) - NCI'}, page_content='Inherited Risk'),\n",
              " Document(id='1138adf9-4491-49bb-94a7-d6a4ad0b77dc', metadata={'description': 'Breast cancer screening is performed using mammogram, clinical breast exam (CBE), and MRI (magnetic resonance imaging) tests. Learn about these and other tests that have been studied to detect or screen for breast cancer in this expert-reviewed and evidence-based summary.', 'language': 'en', 'source': 'https://www.cancer.gov/types/breast/patient/breast-screening-pdq', 'title': 'Breast Cancer Screening - NCI'}, page_content='is called a risk factor. Anything that decreases your chance of getting a disease is called a protective factor. Talk to your doctor if you think you may be at risk for breast cancer.To learn more about risk factors and protective factors for breast cancer, visit Breast Cancer Prevention.'),\n",
              " Document(id='823eb2af-f832-4a18-9411-93581281bc04', metadata={'description': 'Risk factors for breast cancer are female sex and advancing age, inherited risk, breast density, obesity, alcohol consumption, and exposure to ionizing radiation. Interventions to prevent breast cancer include chemoprevention (e.g. SERMs, AIs), risk-reducing surgery (e.g. mastectomy, oophorectomy). Review the evidence on risk factors and interventions to prevent breast cancer in this expert-reviewed summary.', 'language': 'en', 'source': 'https://www.cancer.gov/types/breast/hp/breast-prevention-pdq', 'title': 'Breast Cancer Prevention (PDQ®) - NCI'}, page_content='Who Is at Risk?')]"
            ]
          },
          "metadata": {},
          "execution_count": 14
        }
      ]
    },
    {
      "cell_type": "code",
      "source": [
        "# Convert the vector database into a retriever for querying\n",
        "retriever = vector_db.as_retriever()"
      ],
      "metadata": {
        "id": "-oLZOIIzYeAH"
      },
      "execution_count": null,
      "outputs": []
    },
    {
      "cell_type": "code",
      "source": [
        "# Create Question-Answer Chain Pipeline\n",
        "\n",
        "# Prompt for the system\n",
        "system_prompt = (\n",
        "    \"\"\"\n",
        "    You are an assistant in question-answering tasks.\n",
        "    Provide answers using the retrieved context.\n",
        "    If there is no relevent context for the question,\n",
        "    Simply state, 'No response available'.\n",
        "    Be brief and stick to the key points, and try to\n",
        "    use the ordered numeric format if you can.\n",
        "    The number of items does not matter.\n",
        "    Ask follow-up questions if the question is incomplete or not clear\n",
        "    \\n\\n\n",
        "    {context}\n",
        "    \"\"\"\n",
        ")\n",
        "\n",
        "# Prompt Template\n",
        "prompt = ChatPromptTemplate.from_messages(\n",
        "    [\n",
        "        ('system', system_prompt),\n",
        "        MessagesPlaceholder('chat_history'),\n",
        "        ('human', '{input}')\n",
        "    ]\n",
        ")\n",
        "\n",
        "# LLM - setting temperature to 0 makes the llm to not be creative but to stick to the contents as possible\n",
        "llm = ChatOpenAI(model = 'gpt-4o-mini', temperature = 0.0)\n",
        "\n",
        "# QA Chain\n",
        "qa_chain = create_stuff_documents_chain(llm, prompt)"
      ],
      "metadata": {
        "id": "Kq_N_2AgYGwm"
      },
      "execution_count": null,
      "outputs": []
    },
    {
      "cell_type": "markdown",
      "source": [
        "* This is a question-answering chain that can answer user inputs, however this does not have any of our documents in the system, so we build a RAG system that has our internal data for reference."
      ],
      "metadata": {
        "id": "mT8pcqvAX58d"
      }
    },
    {
      "cell_type": "markdown",
      "source": [
        "## RAG"
      ],
      "metadata": {
        "id": "FQBaZ_0t6i6q"
      }
    },
    {
      "cell_type": "markdown",
      "source": [
        "**RAG (Retrieval Augmented Generation)** is one the core techniques in Gen AI that enhances the capability of LLMs by incorporating them with external knowledge bases (documentations from cancer.gov in our case)\n",
        "\n",
        "However, RAG does not have ability to manually save the chat history so we need to build a retriever that is capable of history awareness.\n",
        "\n",
        "For example, if the user asks RAG \"What are the top 10 risk factors for breast cancer\" first and ask follow-up question , then it will not realize the contextual meaning of what user needs more.\n",
        "\n",
        "Therefore, it is critical to build a history aware retriever for smooth conversation-like AI workflow."
      ],
      "metadata": {
        "id": "PebsTL8g6lXL"
      }
    },
    {
      "cell_type": "code",
      "source": [
        "# Create Retriever Chain Pipeline with Chat History\n",
        "\n",
        "# History System Prompt\n",
        "history_system_prompt = (\n",
        "    \"\"\"\n",
        "    Given chat history and the latest user input, formulate a\n",
        "    standalone question that can be understood without referencing\n",
        "    chat history.\n",
        "\n",
        "    This is NOT telling you to generate answers, but to reformulate\n",
        "    the questions or return them as they are.\n",
        "    \\n\\n\n",
        "    {{context}}\n",
        "    \"\"\"\n",
        ")\n",
        "\n",
        "# History Prompt Template\n",
        "history_prompt = ChatPromptTemplate.from_messages(\n",
        "    [\n",
        "        ('system', history_system_prompt),\n",
        "        MessagesPlaceholder('chat_history'),\n",
        "        ('human', '{input}')\n",
        "    ]\n",
        ")\n",
        "\n",
        "# History Aware Retriever\n",
        "history_aware_retriever = create_history_aware_retriever(llm, retriever, history_prompt)\n",
        "\n",
        "# RAG Chain incoporated with HAR\n",
        "rag_chain = create_retrieval_chain(history_aware_retriever, qa_chain)"
      ],
      "metadata": {
        "id": "HS1cEn-KagPY"
      },
      "execution_count": null,
      "outputs": []
    },
    {
      "cell_type": "code",
      "source": [
        "# Test if RAG works\n",
        "\n",
        "# Temporary list to store chat history\n",
        "test_history = []\n",
        "\n",
        "def rag_test():\n",
        "\n",
        "  while True:\n",
        "    # Ask whatever question you want to ask regarding breast cancer\n",
        "    question = input('Enter your question: ').strip()\n",
        "\n",
        "    # Enter q or quit to get out of the loop\n",
        "    if question.lower() in ['q', 'quit']:\n",
        "      print('Exiting Chat, Goodbye!')\n",
        "      break\n",
        "\n",
        "    # LLM's response to the user question\n",
        "    response = rag_chain.invoke({'input': question, 'chat_history': test_history})\n",
        "\n",
        "    # Add chat history to the list, wil create an answer when it finds relevant documents\n",
        "    # It will say No reponse available if no relevant documents are found\n",
        "    test_history.extend(\n",
        "        [\n",
        "            HumanMessage(content = question),\n",
        "            AIMessage(content = response.get('answer', 'No response available'))\n",
        "        ]\n",
        "    )\n",
        "\n",
        "    print('\\nAnswer:\\n')\n",
        "    print(response.get('answer', 'No response available'))\n",
        "    print('-' * 70)\n",
        "    print('\\n')\n",
        "\n",
        "rag_test()"
      ],
      "metadata": {
        "id": "YVEP3EevbjAk",
        "colab": {
          "base_uri": "https://localhost:8080/"
        },
        "outputId": "85e245d0-782f-4994-f39d-349bffddb8f4"
      },
      "execution_count": null,
      "outputs": [
        {
          "output_type": "stream",
          "name": "stdout",
          "text": [
            "Enter your question: What are the risk factors of breast cancer?\n",
            "\n",
            "Answer:\n",
            "\n",
            "The risk factors for breast cancer include:\n",
            "\n",
            "1. **Personal History**: \n",
            "   - Invasive breast cancer\n",
            "   - Ductal carcinoma in situ (DCIS)\n",
            "   - Lobular carcinoma in situ (LCIS)\n",
            "   - Benign breast disease\n",
            "\n",
            "2. **Family History**: \n",
            "   - Breast cancer in a first-degree relative (mother, daughter, sister)\n",
            "\n",
            "3. **Genetic Factors**: \n",
            "   - Inherited changes in BRCA1 or BRCA2 genes or other genes that increase risk\n",
            "\n",
            "4. **Breast Density**: \n",
            "   - Dense breast tissue on a mammogram\n",
            "\n",
            "5. **Hormonal Exposure**: \n",
            "   - Early menarche\n",
            "   - Older age at first birth or nulliparity (never having given birth)\n",
            "   - Late menopause\n",
            "   - Use of combination estrogen-progesterone hormones after menopause\n",
            "\n",
            "6. **Radiation Exposure**: \n",
            "   - Especially during puberty or young adulthood\n",
            "\n",
            "7. **Lifestyle Factors**: \n",
            "   - Alcohol consumption\n",
            "   - Smoking\n",
            "   - Physical inactivity\n",
            "\n",
            "8. **Other Factors**: \n",
            "   - Treatment with radiation\n",
            "   - Hormone replacement therapy (HRT)\n",
            "   - Contraceptives\n",
            "\n",
            "These factors can influence breast cancer risk differently, especially in women with a high susceptibility to breast cancer.\n",
            "----------------------------------------------------------------------\n",
            "\n",
            "\n",
            "Enter your question: I need more information for the previous question\n",
            "\n",
            "Answer:\n",
            "\n",
            "Could you please specify which particular risk factors you would like more information about? For example, are you interested in details about genetic factors, lifestyle influences, or hormonal exposure?\n",
            "----------------------------------------------------------------------\n",
            "\n",
            "\n",
            "Enter your question: risk factor\n",
            "\n",
            "Answer:\n",
            "\n",
            "Here are more detailed explanations of the risk factors for breast cancer:\n",
            "\n",
            "1. **Personal History**: \n",
            "   - Women who have previously been diagnosed with breast cancer have a higher risk of developing a new cancer in the same or the other breast.\n",
            "\n",
            "2. **Family History**: \n",
            "   - Having a first-degree relative (mother, sister, daughter) with breast cancer significantly increases a woman's risk, especially if the relative was diagnosed at a young age.\n",
            "\n",
            "3. **Genetic Factors**: \n",
            "   - Mutations in genes such as BRCA1 and BRCA2 are linked to a higher risk of breast and ovarian cancers. Women with these mutations may have up to an 85% risk of developing breast cancer by age 70.\n",
            "\n",
            "4. **Breast Density**: \n",
            "   - Women with dense breast tissue have a higher risk of breast cancer. Dense tissue can also make it harder to detect tumors on mammograms.\n",
            "\n",
            "5. **Hormonal Exposure**: \n",
            "   - Early onset of menstruation (before age 12) and late onset of menopause (after age 55) increase the total number of menstrual cycles a woman experiences, which may elevate risk. Women who have their first child after age 30 or who do not have children also have a higher risk.\n",
            "\n",
            "6. **Radiation Exposure**: \n",
            "   - Women who received radiation therapy to the chest area (for conditions like Hodgkin's lymphoma) before age 30 are at increased risk for breast cancer.\n",
            "\n",
            "7. **Lifestyle Factors**: \n",
            "   - Alcohol consumption is associated with an increased risk; studies suggest that even small amounts can elevate risk. Smoking has also been linked to a higher risk of breast cancer, particularly in premenopausal women. Physical inactivity and obesity, especially after menopause, are additional risk factors.\n",
            "\n",
            "8. **Other Factors**: \n",
            "   - Long-term use of hormone replacement therapy (HRT) after menopause, particularly combined estrogen and progesterone therapy, has been shown to increase breast cancer risk. The use of certain contraceptives may also have an impact, although the relationship is less clear.\n",
            "\n",
            "Understanding these risk factors can help in assessing individual risk and making informed decisions about screening and prevention strategies.\n",
            "----------------------------------------------------------------------\n",
            "\n",
            "\n",
            "Enter your question: q\n",
            "Exiting Chat, Goodbye!\n"
          ]
        }
      ]
    },
    {
      "cell_type": "markdown",
      "source": [
        "As it can be seen with the test, the user and AI can have conversation-like workflow with the help of history aware retriever."
      ],
      "metadata": {
        "id": "4G5Nw7q3e86k"
      }
    },
    {
      "cell_type": "markdown",
      "source": [
        "## Tools"
      ],
      "metadata": {
        "id": "ZwrC62rd-XKO"
      }
    },
    {
      "cell_type": "markdown",
      "source": [
        "Tools are crucial element in Generative AI that enables AI agents to improve their performance with higher accuracy and efficiency for specific tasks.\n",
        "\n",
        "Tools can be custom-made with clear instructions from the user or can use tools that are already built for particular tasks."
      ],
      "metadata": {
        "id": "w0O2fhiL-ZIp"
      }
    },
    {
      "cell_type": "code",
      "source": [
        "# Create function to use rag chain as agent's tool\n",
        "def domain_info(user_input: str, memory:ConversationBufferMemory) -> str:\n",
        "  \"\"\"\n",
        "  Params:\n",
        "\n",
        "  user_input (str): User question related to breast cancer\n",
        "  memory: ConversationBufferMemory: A key component to build conversation AI Chatbot system\n",
        "                                    to help generate contextually-aware responses\n",
        "\n",
        "  Expected Output:\n",
        "\n",
        "  Response to the user input based on the internal rag or 'No response availabe' if no relevant docs.\n",
        "\n",
        "  \"\"\"\n",
        "  # Refernce of full chat history\n",
        "  full_chat_history = memory.load_memory_variables({})['chat_history']\n",
        "\n",
        "  # Result of the RAG based on user input and chat history\n",
        "  result = rag_chain.invoke(\n",
        "      {'input': user_input, 'chat_history': full_chat_history}\n",
        "  )\n",
        "\n",
        "  # Answer part of the AI response without metadata\n",
        "  answer = result['answer']\n",
        "\n",
        "  # Save the chat history to the memory\n",
        "  memory.save_context(\n",
        "      {'input': user_input},\n",
        "      {'output': answer}\n",
        "  )\n",
        "\n",
        "  # Print out the answer\n",
        "  print(answer)\n",
        "  return answer"
      ],
      "metadata": {
        "id": "zB08p_WifCcu"
      },
      "execution_count": null,
      "outputs": []
    },
    {
      "cell_type": "code",
      "source": [
        "# Set Up global memory for chat history reference\n",
        "global_memory = ConversationBufferMemory(\n",
        "    memory_key = 'chat_history',\n",
        "    return_messages = True,\n",
        "    input_key = 'input',\n",
        "    output_key = 'output'\n",
        ")"
      ],
      "metadata": {
        "id": "k-asFz7jSCTo",
        "colab": {
          "base_uri": "https://localhost:8080/"
        },
        "outputId": "52a6a40e-6498-4721-95c1-94cb4f1059b1"
      },
      "execution_count": null,
      "outputs": [
        {
          "output_type": "stream",
          "name": "stderr",
          "text": [
            "<ipython-input-20-f01acc909178>:2: LangChainDeprecationWarning: Please see the migration guide at: https://python.langchain.com/docs/versions/migrating_memory/\n",
            "  global_memory = ConversationBufferMemory(\n"
          ]
        }
      ]
    },
    {
      "cell_type": "code",
      "source": [
        "# Initialize PubMed Retriever for extracting external data\n",
        "pubmed_retriever = PubMedRetriever(search_term = \"breast cancer\")\n",
        "\n",
        "def pubmed_tool_fn(context: str) -> str:\n",
        "    \"\"\"\n",
        "    Params:\n",
        "    context (str): response from the 1st agent, either well-structured response or 'No response available'.\n",
        "\n",
        "    Expected Output:\n",
        "    An enriched, more profound answer than the provided context with additional documents from PubMed,\n",
        "    or a new answer if the context is 'No response available'.\n",
        "    \"\"\"\n",
        "\n",
        "    # Retrieve 5 PubMed docs\n",
        "    docs = pubmed_retriever.get_relevant_documents(context)[:5]\n",
        "\n",
        "    # Return their content\n",
        "    answer = \"\\n\\n\".join(d.page_content for d in docs)\n",
        "\n",
        "    # Save the chat history to the memory\n",
        "    global_memory.save_context(\n",
        "        {\"input\": context},\n",
        "        {\"output\": answer}\n",
        "    )\n",
        "\n",
        "    return answer"
      ],
      "metadata": {
        "id": "-kRuLMY1yEpF"
      },
      "execution_count": null,
      "outputs": []
    },
    {
      "cell_type": "code",
      "source": [
        "# Create a RAG tool for Agent with RAG Task\n",
        "domain_rag = Tool(\n",
        "    name = 'DomainRAGInfo', # name of the tool\n",
        "    func = lambda user_input: domain_info(user_input, global_memory), # execution function\n",
        "    description = # description of the task\n",
        "    \"\"\"\n",
        "    Use this tool for questions about breast cancer from the internal knowledge base that may\n",
        "    rely on previous conversation.\n",
        "    \"\"\"\n",
        ")\n",
        "\n",
        "# Set up tool for PubMed retrieval in agent\n",
        "pubmed_tool = Tool(\n",
        "    name = \"PubMedRetriever\", # name of the tool\n",
        "    func = pubmed_tool_fn, # execution function\n",
        "    description = # description of the task\n",
        "    \"\"\"\n",
        "    Provide more information from PubMed documents to make the answers more profound and enriched.\n",
        "    If the context you get is 'No response available', create a standalone answer.\n",
        "    \"\"\"\n",
        ")"
      ],
      "metadata": {
        "id": "TqsDU2QFf295"
      },
      "execution_count": null,
      "outputs": []
    },
    {
      "cell_type": "markdown",
      "source": [
        "## Agents"
      ],
      "metadata": {
        "id": "AlRsN7m7NRzP"
      }
    },
    {
      "cell_type": "markdown",
      "source": [
        "* Agents are highly capable & crucial hands helping the LLMs to generate response for the user query using the pre-defined tools."
      ],
      "metadata": {
        "id": "QTsXGgtlNThj"
      }
    },
    {
      "cell_type": "code",
      "source": [
        "# Create RAG Agent\n",
        "domain_rag_agent = initialize_agent(\n",
        "    tools = [domain_rag], # tool for usage\n",
        "    llm = llm, # LLM (gpt-4o-min with 0 temperature)\n",
        "    agent = AgentType.CHAT_CONVERSATIONAL_REACT_DESCRIPTION,  # Agent type for chat with memory and ReAct tool selection\n",
        "    memory = global_memory, # ConversationBufferMemory instance to store chat history\n",
        "    verbose = True # Enable verbose logging of internal thought/action steps\n",
        ")\n",
        "\n",
        "# Create Pubmed Agent\n",
        "pubmed_agent = initialize_agent(\n",
        "    tools = [pubmed_tool], # tool for usage\n",
        "    llm = llm, # LLM (gpt-4o-min with 0 temperature)\n",
        "    agent = AgentType.ZERO_SHOT_REACT_DESCRIPTION,  # One-shot agent type for single-turn tool invocation\n",
        "    memory = global_memory,# ConversationBufferMemory instance to store chat history\n",
        "    verbose = True # Enable verbose logging of internal thought/action steps\n",
        ")"
      ],
      "metadata": {
        "id": "Ox4s0HWyodSE",
        "colab": {
          "base_uri": "https://localhost:8080/"
        },
        "outputId": "e01d61f5-26f8-4230-c608-b5089465d9ef"
      },
      "execution_count": null,
      "outputs": [
        {
          "output_type": "stream",
          "name": "stderr",
          "text": [
            "<ipython-input-23-f95862748741>:2: LangChainDeprecationWarning: LangChain agents will continue to be supported, but it is recommended for new use cases to be built with LangGraph. LangGraph offers a more flexible and full-featured framework for building agents, including support for tool-calling, persistence of state, and human-in-the-loop workflows. For details, refer to the `LangGraph documentation <https://langchain-ai.github.io/langgraph/>`_ as well as guides for `Migrating from AgentExecutor <https://python.langchain.com/docs/how_to/migrate_agent/>`_ and LangGraph's `Pre-built ReAct agent <https://langchain-ai.github.io/langgraph/how-tos/create-react-agent/>`_.\n",
            "  domain_rag_agent = initialize_agent(\n"
          ]
        }
      ]
    },
    {
      "cell_type": "code",
      "source": [
        "# Two Agent WorkFlow Pipeline\n",
        "def two_agent_pipeline(user_input: str) -> str:\n",
        "    \"\"\"\n",
        "    This is a pipeline for two agents to work in sequential process.\n",
        "    \"\"\"\n",
        "    # Answer generated by 1st Agent\n",
        "    rag_answer = domain_rag_agent.run(user_input)\n",
        "\n",
        "    # If the answer from RAG is 'No response available', use the user_input as context\n",
        "    # Else, use the RAG answer as the context\n",
        "    if rag_answer == 'No response available':\n",
        "        context = user_input  # If no valid response, pass the original user input as context\n",
        "    else:\n",
        "        context = rag_answer  # Use the RAG answer as context\n",
        "\n",
        "    # Pass the context to the PubMed tool function\n",
        "    final_answer = pubmed_agent.run(context)\n",
        "\n",
        "\n",
        "    return final_answer"
      ],
      "metadata": {
        "id": "DJgAgSgsNwUW"
      },
      "execution_count": null,
      "outputs": []
    },
    {
      "cell_type": "code",
      "source": [
        "# Initialize the grammar & spelling checker, set language to English\n",
        "tool = language_tool_python.LanguageTool('en-US')\n",
        "\n",
        "# A function to fix grammar or typos in applciation input\n",
        "def correct_input(user_input: str) -> str:\n",
        "    \"\"\"\n",
        "    Runs a quick grammar/spell check on user_input and returns the corrected version.\n",
        "    \"\"\"\n",
        "    matches = tool.check(user_input)\n",
        "    return language_tool_python.utils.correct(user_input, matches)"
      ],
      "metadata": {
        "id": "2qXH-YHPbJbX",
        "colab": {
          "base_uri": "https://localhost:8080/"
        },
        "outputId": "5e54a4a5-e3f4-4fb4-8f3a-0e48289eb188"
      },
      "execution_count": null,
      "outputs": [
        {
          "output_type": "stream",
          "name": "stderr",
          "text": [
            "Downloading LanguageTool latest: 100%|██████████| 252M/252M [00:11<00:00, 21.8MB/s]\n",
            "INFO:language_tool_python.download_lt:Unzipping /tmp/tmpcjd8twsj.zip to /root/.cache/language_tool_python.\n",
            "INFO:language_tool_python.download_lt:Downloaded https://internal1.languagetool.org/snapshots/LanguageTool-latest-snapshot.zip to /root/.cache/language_tool_python.\n"
          ]
        }
      ]
    },
    {
      "cell_type": "code",
      "source": [
        "# Combine the ultimate function for our application\n",
        "def breast_cancer_fn(user_input, chat_history):\n",
        "    \"\"\"\n",
        "    Params:\n",
        "\n",
        "    user_input (str): User question related to breast cancer\n",
        "    memory: ConversationBufferMemory: A key component to build conversation AI Chatbot system\n",
        "                                    to help generate contextually-aware responses\n",
        "\n",
        "    Expected Output:\n",
        "\n",
        "    Response to the user input based on the internal rag, enriched or newly written with Pubmed documents\n",
        "    with corrected spelling or grammar if there any.\n",
        "    \"\"\"\n",
        "\n",
        "    # Pre‐correct typos/grammar\n",
        "    corrected = correct_input(user_input)\n",
        "\n",
        "    if corrected != user_input:\n",
        "      user_input = corrected\n",
        "\n",
        "    # Run two agent pipe-line with the user input\n",
        "    response = two_agent_pipeline(user_input)\n",
        "    chat_history.append((user_input, response))\n",
        "    return chat_history, \"\" # chat_history: updates the visible chat history & \"\": clears the text box content once user press enter"
      ],
      "metadata": {
        "id": "npGm7SlChLf2"
      },
      "execution_count": null,
      "outputs": []
    },
    {
      "cell_type": "code",
      "source": [
        "# Gradio Demo Breast Cancer-QA chatbot Interface\n",
        "\n",
        "with gr.Blocks() as demo:\n",
        "    # Title\n",
        "    gr.Markdown('Cancer-QA BOT')\n",
        "\n",
        "    # Chat window\n",
        "    chatbot = gr.Chatbot(type='messages')\n",
        "\n",
        "    # Input box for questions\n",
        "    user_box = gr.Textbox(\n",
        "        placeholder='Ask any question about breast cancer',\n",
        "        show_label=False\n",
        "    )\n",
        "\n",
        "    # Button to clear chat\n",
        "    clear_btn = gr.Button('Clear Chat')\n",
        "\n",
        "    # On Enter: run the main function, update chat, clear input\n",
        "    user_box.submit(\n",
        "        fn = breast_cancer_fn,\n",
        "        inputs = [user_box, chatbot],\n",
        "        outputs = [chatbot, user_box]\n",
        "    )\n",
        "\n",
        "    # Function to clear memory and chat history\n",
        "    def clear_memory():\n",
        "        global_memory.clear()\n",
        "        return []  # empty history\n",
        "\n",
        "    # Link clear button to clear function\n",
        "    clear_btn.click(\n",
        "        clear_memory,\n",
        "        inputs = [],\n",
        "        outputs = [chatbot],\n",
        "        queue = False\n",
        "    )\n",
        "\n",
        "# Start the app\n",
        "demo.launch(debug = True)"
      ],
      "metadata": {
        "id": "Ju3ROf0UzOuQ",
        "colab": {
          "base_uri": "https://localhost:8080/",
          "height": 1000
        },
        "outputId": "fa6084e4-5e85-439c-f5a9-b3ab45a62bb8"
      },
      "execution_count": null,
      "outputs": [
        {
          "output_type": "stream",
          "name": "stdout",
          "text": [
            "Colab notebook detected. This cell will run indefinitely so that you can see errors and logs. To turn off, set debug=False in launch().\n",
            "Note: opening Chrome Inspector may crash demo inside Colab notebooks.\n",
            "\n",
            "To create a public link, set `share=True` in `launch()`.\n"
          ]
        },
        {
          "output_type": "display_data",
          "data": {
            "text/plain": [
              "<IPython.core.display.Javascript object>"
            ],
            "application/javascript": [
              "(async (port, path, width, height, cache, element) => {\n",
              "                        if (!google.colab.kernel.accessAllowed && !cache) {\n",
              "                            return;\n",
              "                        }\n",
              "                        element.appendChild(document.createTextNode(''));\n",
              "                        const url = await google.colab.kernel.proxyPort(port, {cache});\n",
              "\n",
              "                        const external_link = document.createElement('div');\n",
              "                        external_link.innerHTML = `\n",
              "                            <div style=\"font-family: monospace; margin-bottom: 0.5rem\">\n",
              "                                Running on <a href=${new URL(path, url).toString()} target=\"_blank\">\n",
              "                                    https://localhost:${port}${path}\n",
              "                                </a>\n",
              "                            </div>\n",
              "                        `;\n",
              "                        element.appendChild(external_link);\n",
              "\n",
              "                        const iframe = document.createElement('iframe');\n",
              "                        iframe.src = new URL(path, url).toString();\n",
              "                        iframe.height = height;\n",
              "                        iframe.allow = \"autoplay; camera; microphone; clipboard-read; clipboard-write;\"\n",
              "                        iframe.width = width;\n",
              "                        iframe.style.border = 0;\n",
              "                        element.appendChild(iframe);\n",
              "                    })(7860, \"/\", \"100%\", 500, false, window.element)"
            ]
          },
          "metadata": {}
        },
        {
          "output_type": "stream",
          "name": "stdout",
          "text": [
            "IMPORTANT: You are using gradio version 3.38.0, however version 4.44.1 is available, please upgrade.\n",
            "--------\n"
          ]
        },
        {
          "output_type": "stream",
          "name": "stderr",
          "text": [
            "<ipython-input-24-fcaf15a2ed99>:7: LangChainDeprecationWarning: The method `Chain.run` was deprecated in langchain 0.1.0 and will be removed in 1.0. Use :meth:`~invoke` instead.\n",
            "  rag_answer = domain_rag_agent.run(user_input)\n"
          ]
        },
        {
          "output_type": "stream",
          "name": "stdout",
          "text": [
            "\n",
            "\n",
            "\u001b[1m> Entering new AgentExecutor chain...\u001b[0m\n",
            "\u001b[32;1m\u001b[1;3m```json\n",
            "{\n",
            "    \"action\": \"DomainRAGInfo\",\n",
            "    \"action_input\": \"common early warning signs of breast cancer\"\n",
            "}\n",
            "```\u001b[0m1. Breast lump or firm feeling (mass) in or near the breast or under the arm.\n",
            "2. Nipple changes or discharge (fluid that is not breast milk).\n",
            "3. Skin changes on the breast(s) such as redness, swelling, dimples, or puckers.\n",
            "4. Rapid onset of erythema (redness) and edema (swelling) with abnormal breast warmth.\n",
            "5. Changes in the size or shape of the breast.\n",
            "\n",
            "If you notice any of these changes, consult your doctor or nurse.\n",
            "\n",
            "Observation: \u001b[36;1m\u001b[1;3m1. Breast lump or firm feeling (mass) in or near the breast or under the arm.\n",
            "2. Nipple changes or discharge (fluid that is not breast milk).\n",
            "3. Skin changes on the breast(s) such as redness, swelling, dimples, or puckers.\n",
            "4. Rapid onset of erythema (redness) and edema (swelling) with abnormal breast warmth.\n",
            "5. Changes in the size or shape of the breast.\n",
            "\n",
            "If you notice any of these changes, consult your doctor or nurse.\u001b[0m\n",
            "Thought:\u001b[32;1m\u001b[1;3m```json\n",
            "{\n",
            "    \"action\": \"Final Answer\",\n",
            "    \"action_input\": \"The common early warning signs of breast cancer include: 1. A breast lump or firm feeling (mass) in or near the breast or under the arm. 2. Nipple changes or discharge (fluid that is not breast milk). 3. Skin changes on the breast(s) such as redness, swelling, dimples, or puckers. 4. Rapid onset of erythema (redness) and edema (swelling) with abnormal breast warmth. 5. Changes in the size or shape of the breast. If you notice any of these changes, it's important to consult your doctor or nurse.\"\n",
            "}\n",
            "```\u001b[0m\n",
            "\n",
            "\u001b[1m> Finished chain.\u001b[0m\n",
            "\n",
            "\n",
            "\u001b[1m> Entering new AgentExecutor chain...\u001b[0m\n",
            "\u001b[32;1m\u001b[1;3mI need to gather more detailed information about the early warning signs of breast cancer to provide a more comprehensive answer. \n",
            "\n",
            "Action: PubMedRetriever  \n",
            "Action Input: \"early warning signs of breast cancer\"  \u001b[0m"
          ]
        },
        {
          "output_type": "stream",
          "name": "stderr",
          "text": [
            "<ipython-input-21-f5aac2d16e09>:15: LangChainDeprecationWarning: The method `BaseRetriever.get_relevant_documents` was deprecated in langchain-core 0.1.46 and will be removed in 1.0. Use :meth:`~invoke` instead.\n",
            "  docs = pubmed_retriever.get_relevant_documents(context)[:5]\n"
          ]
        },
        {
          "output_type": "stream",
          "name": "stdout",
          "text": [
            "Too Many Requests, waiting for 0.20 seconds...\n",
            "Too Many Requests, waiting for 0.40 seconds...\n",
            "\n",
            "Observation: \u001b[36;1m\u001b[1;3mAIM: The aim of this study was to evaluate the early diagnostic potential of various serum biomarkers and ultrasound characteristics in girls diagnosed with early central precocious puberty (CPP).\n",
            "METHODS: A cohort of 125 girls presenting breast development was assessed between May 2020 and January 2023. Following a six-month follow-up and GnRH agonist stimulation test, 78 girls were classified into the CPP group and 47 into the premature thelarche (PT) group. Serum biomarkers, including insulin-like growth factor-binding protein 3 (IGFBP-3), insulin-like growth factor 1 (IGF-1), and dehydroepiandrosterone sulfate (DHEAs), as well as bone age index (BAI) and ultrasound features, were compared between the groups.\n",
            "RESULTS: Chronological age did not significantly differ between the groups, but bone age and BAI were notably higher in the CPP group. Most serum levels, except for peak FSH, were significantly elevated in the CPP group. Ultrasound metrics such as uterine volume, cervical ratio, ovarian volume, and milk bud characteristics also showed significant differences. Correlation analyses revealed positive associations between both physical and serum indices and peak LH levels. Receiver operating characteristic (ROC) curve analysis identified basal LH as having the highest area under the curve (AUC) of 0.927, followed by DHEAs (AUC = 0.924). Logistic regression identified LH and DHEAs as independent risk factors for CPP, with optimal diagnostic efficacy achieved when both markers were combined (AUC = 0.973).\n",
            "CONCLUSION: Basal LH, IGF-1, IGFBP-3, DHEAs, and associated ultrasound features are valuable early indicators for CPP in girls. The combination of LH and DHEAs enhances diagnostic accuracy, establishing them as significant independent risk factors for CPP.\n",
            "\n",
            "INTRODUCTION: Breast cancer (BC) awareness and preventive practices are critical for the early detection and effective management of the disease. This study aimed to assess the level of BC awareness among women residing in Al Baha, Saudi Arabia.\n",
            "METHODS: A cross-sectional study was conducted using the Breast Cancer Awareness Measure (BCAM) survey tool to evaluate BC awareness among female residents of Al Baha between June and July 2023. The sample was obtained through the snowball sampling technique.\n",
            "RESULTS: A total of 1007 women participated in the study, with a mean age of 29 ± 10.9 years. Overall awareness of BC warning signs and risk factors was low, with 45% of participants demonstrating poor awareness. Significant positive associations were found between BC awareness and factors such as level of education ( = 0.020), employment status ( = 0.023), field of study for students ( < 0.0001), and average monthly family income ( = 0.001). Furthermore, 75% of participants rarely or never practiced breast self-examination, and only 37% of those invited to the Ministry of Health's screening program had attended.\n",
            "CONCLUSIONS: The results highlight a significant lack of awareness and knowledge about BC among women in Al Baha. These findings underscore the urgent need for targeted educational initiatives and awareness campaigns to address this knowledge gap and promote preventive practices.\n",
            "\n",
            "BACKGROUND: Breast cancer is a significant worldwide public health issue that poses a substantial threat to the lives of countless people around the world. Increasing awareness and implementing screening for breast cancer are two of the crucial strategies for decreasing the burden of disease. The study assessed awareness, practice, and perceived barriers to breast cancer screening among university students.\n",
            "METHOD: An institution-based cross-sectional study was conducted from June 2023 to December 2023 at the International Islamic University Chittagong (IIUC), Bangladesh, where 387 students were randomly selected for this study.\n",
            "RESULT: Among 387 participants, the majority (25.06%) were from the faculty of business administration, whereas 23.51% were from the faculty of science and engineering. Most (80.41%) of respondents had sufficient awareness of breast cancer and its screening. While they were aware of breast cancer screening, majority (67.7%) did not practice it. Students of law faculty were about three times [AOR: 0.31 (95% CI: 0.118-0.828)] and students of business administration faculty were about five times [AOR: 0.21 (95% CI: 0.087-0.532)] less likely to be aware of breast cancer and Breast Self Examination (BSE) than faculty of science and engineering. Also, living in dormitory students were more than two times [AOR: 0.42 (95% CI: 0.189-0.940)] less likely to be aware of breast cancer and screening of breast than those living with family. The majority (52.2% to 79.33%) of the students did not correctly identify different warning signs of breast cancer. Perceptions of having \"no signs & symptoms,\" not having \"sufficient organization working on screening,\" and \"lack of awareness program\" were found to be leading barriers to breast screening among students.\n",
            "CONCLUSION: Though better awareness about breast cancer and its screening was found among the students, low practices were observed in screening. Students of the science and engineering faculty demonstrated a sufficient level of breast cancer awareness than students from other faculties, and students with good screening practice habits of breast cancer were sufficiently aware of breast cancer than poorly practicing students. Still, warning signs of breast cancer are unfamiliar to female students among university students. Frequent awareness campaigns are essential to train the students at regular intervals.\u001b[0m\n",
            "Thought:\u001b[32;1m\u001b[1;3mI need to analyze the information gathered to summarize the early warning signs of breast cancer and emphasize the importance of awareness and education regarding these signs.\n",
            "\n",
            "Action: PubMedRetriever  \n",
            "Action Input: \"breast cancer early warning signs\"  \u001b[0mToo Many Requests, waiting for 0.80 seconds...\n",
            "\n",
            "Observation: \u001b[36;1m\u001b[1;3mAIM: The aim of this study was to evaluate the early diagnostic potential of various serum biomarkers and ultrasound characteristics in girls diagnosed with early central precocious puberty (CPP).\n",
            "METHODS: A cohort of 125 girls presenting breast development was assessed between May 2020 and January 2023. Following a six-month follow-up and GnRH agonist stimulation test, 78 girls were classified into the CPP group and 47 into the premature thelarche (PT) group. Serum biomarkers, including insulin-like growth factor-binding protein 3 (IGFBP-3), insulin-like growth factor 1 (IGF-1), and dehydroepiandrosterone sulfate (DHEAs), as well as bone age index (BAI) and ultrasound features, were compared between the groups.\n",
            "RESULTS: Chronological age did not significantly differ between the groups, but bone age and BAI were notably higher in the CPP group. Most serum levels, except for peak FSH, were significantly elevated in the CPP group. Ultrasound metrics such as uterine volume, cervical ratio, ovarian volume, and milk bud characteristics also showed significant differences. Correlation analyses revealed positive associations between both physical and serum indices and peak LH levels. Receiver operating characteristic (ROC) curve analysis identified basal LH as having the highest area under the curve (AUC) of 0.927, followed by DHEAs (AUC = 0.924). Logistic regression identified LH and DHEAs as independent risk factors for CPP, with optimal diagnostic efficacy achieved when both markers were combined (AUC = 0.973).\n",
            "CONCLUSION: Basal LH, IGF-1, IGFBP-3, DHEAs, and associated ultrasound features are valuable early indicators for CPP in girls. The combination of LH and DHEAs enhances diagnostic accuracy, establishing them as significant independent risk factors for CPP.\n",
            "\n",
            "INTRODUCTION: Breast cancer (BC) awareness and preventive practices are critical for the early detection and effective management of the disease. This study aimed to assess the level of BC awareness among women residing in Al Baha, Saudi Arabia.\n",
            "METHODS: A cross-sectional study was conducted using the Breast Cancer Awareness Measure (BCAM) survey tool to evaluate BC awareness among female residents of Al Baha between June and July 2023. The sample was obtained through the snowball sampling technique.\n",
            "RESULTS: A total of 1007 women participated in the study, with a mean age of 29 ± 10.9 years. Overall awareness of BC warning signs and risk factors was low, with 45% of participants demonstrating poor awareness. Significant positive associations were found between BC awareness and factors such as level of education ( = 0.020), employment status ( = 0.023), field of study for students ( < 0.0001), and average monthly family income ( = 0.001). Furthermore, 75% of participants rarely or never practiced breast self-examination, and only 37% of those invited to the Ministry of Health's screening program had attended.\n",
            "CONCLUSIONS: The results highlight a significant lack of awareness and knowledge about BC among women in Al Baha. These findings underscore the urgent need for targeted educational initiatives and awareness campaigns to address this knowledge gap and promote preventive practices.\n",
            "\n",
            "BACKGROUND: Breast cancer is a significant worldwide public health issue that poses a substantial threat to the lives of countless people around the world. Increasing awareness and implementing screening for breast cancer are two of the crucial strategies for decreasing the burden of disease. The study assessed awareness, practice, and perceived barriers to breast cancer screening among university students.\n",
            "METHOD: An institution-based cross-sectional study was conducted from June 2023 to December 2023 at the International Islamic University Chittagong (IIUC), Bangladesh, where 387 students were randomly selected for this study.\n",
            "RESULT: Among 387 participants, the majority (25.06%) were from the faculty of business administration, whereas 23.51% were from the faculty of science and engineering. Most (80.41%) of respondents had sufficient awareness of breast cancer and its screening. While they were aware of breast cancer screening, majority (67.7%) did not practice it. Students of law faculty were about three times [AOR: 0.31 (95% CI: 0.118-0.828)] and students of business administration faculty were about five times [AOR: 0.21 (95% CI: 0.087-0.532)] less likely to be aware of breast cancer and Breast Self Examination (BSE) than faculty of science and engineering. Also, living in dormitory students were more than two times [AOR: 0.42 (95% CI: 0.189-0.940)] less likely to be aware of breast cancer and screening of breast than those living with family. The majority (52.2% to 79.33%) of the students did not correctly identify different warning signs of breast cancer. Perceptions of having \"no signs & symptoms,\" not having \"sufficient organization working on screening,\" and \"lack of awareness program\" were found to be leading barriers to breast screening among students.\n",
            "CONCLUSION: Though better awareness about breast cancer and its screening was found among the students, low practices were observed in screening. Students of the science and engineering faculty demonstrated a sufficient level of breast cancer awareness than students from other faculties, and students with good screening practice habits of breast cancer were sufficiently aware of breast cancer than poorly practicing students. Still, warning signs of breast cancer are unfamiliar to female students among university students. Frequent awareness campaigns are essential to train the students at regular intervals.\u001b[0m\n",
            "Thought:\u001b[32;1m\u001b[1;3mI have gathered sufficient information regarding the early warning signs of breast cancer and the importance of awareness and education. The studies indicate that many women and students lack knowledge about these signs, which can lead to delayed diagnosis and treatment. \n",
            "\n",
            "Final Answer: The common early warning signs of breast cancer include: \n",
            "1. A breast lump or firm feeling (mass) in or near the breast or under the arm.\n",
            "2. Nipple changes or discharge (fluid that is not breast milk).\n",
            "3. Skin changes on the breast(s) such as redness, swelling, dimples, or puckers.\n",
            "4. Rapid onset of erythema (redness) and edema (swelling) with abnormal breast warmth.\n",
            "5. Changes in the size or shape of the breast.\n",
            "\n",
            "Awareness of these signs is crucial for early detection and effective management of breast cancer. Studies show that many women, particularly in certain regions and demographics, have low awareness of these warning signs, highlighting the need for targeted educational initiatives and awareness campaigns to promote preventive practices. If you notice any of these changes, it's important to consult your doctor or nurse.\u001b[0m\n",
            "\n",
            "\u001b[1m> Finished chain.\u001b[0m\n",
            "\n",
            "\n",
            "\u001b[1m> Entering new AgentExecutor chain...\u001b[0m\n",
            "\u001b[32;1m\u001b[1;3m```json\n",
            "{\n",
            "    \"action\": \"DomainRAGInfo\",\n",
            "    \"action_input\": \"Can wearing a tight bra cause breast cancer?\"\n",
            "}\n",
            "```\u001b[0mNo response available.\n",
            "\n",
            "Observation: \u001b[36;1m\u001b[1;3mNo response available.\u001b[0m\n",
            "Thought:\u001b[32;1m\u001b[1;3m```json\n",
            "{\n",
            "    \"action\": \"Final Answer\",\n",
            "    \"action_input\": \"There is no scientific evidence to support the claim that wearing a tight bra causes breast cancer. Breast cancer is influenced by various factors, including genetics, age, hormonal factors, and lifestyle choices, but not by the tightness of a bra. If you have concerns about breast health, it's best to consult a healthcare professional.\"\n",
            "}\n",
            "```\u001b[0m\n",
            "\n",
            "\u001b[1m> Finished chain.\u001b[0m\n",
            "\n",
            "\n",
            "\u001b[1m> Entering new AgentExecutor chain...\u001b[0m\n",
            "\u001b[32;1m\u001b[1;3mI need to verify the claim regarding the relationship between wearing a tight bra and breast cancer, as well as gather more information on the factors that influence breast cancer risk. \n",
            "Action: PubMedRetriever\n",
            "Action Input: \"tight bra breast cancer risk factors\"\u001b[0m\n",
            "Observation: \u001b[36;1m\u001b[1;3mBACKGROUND: The discussion about breast cancer (BC) causation continues to be surrounded by a number of myths and misbeliefs. If efforts are misdirected towards reducing risk from false mythical causes, individuals might be less likely to consider and adopt risk-reducing behaviors for evidence-based BC causes. This national study aimed to assess the awareness of BC causation myths and misbeliefs among Palestinian women, and examine the factors associated with having good awareness.\n",
            "METHODS: This national cross-sectional study recruited adult women from government hospitals, primary healthcare centers, and public spaces in 11 governorates in Palestine. A modified version of the Cancer Awareness Measure-Mythical Causes Scale was used to collect data. The level of awareness of BC causation myths was determined based on the number of myths recognized to be incorrect: poor (0-5), fair (6-10), or good (11-15).\n",
            "RESULTS: A total of 5,257 questionnaires were included. Only 269 participants (5.1%) demonstrated good awareness (i.e., recognizing more than 10 out of 15 BC mythical causes). There were no notable differences in displaying good awareness between the main areas of Palestine, the Gaza Strip and the West Bank and Jerusalem (5.1% vs. 5.1%). Having chronic disease as well as visiting hospitals and primary healthcare centers were associated with a decrease in the likelihood of displaying good awareness. Myths related to food were less frequently recognized as incorrect than food-unrelated myths. 'Eating burnt food' was the most recognized food-related myth (n = 1414, 26.9%), while 'eating food containing additives' was the least recognized (n = 599, 11.4%). 'Having a physical trauma' was the most recognized food-unrelated myth (n = 2795, 53.2%), whereas the least recognized was 'wearing tight bra' (n = 1018, 19.4%).\n",
            "CONCLUSIONS: A very small proportion of Palestinian women could recognize 10 or more myths around BC causation. There is a substantial need to include clear information about BC causation in future educational interventions besides focusing on BC screening, signs and symptoms, and risk factors.\n",
            "\n",
            "BACKGROUND: Knowledge of cancer risk factors is unknown in Ireland. An understanding of risk factors could help inform cancer prevention programs.\n",
            "AIMS AND METHODS: A 48-question online survey was designed to gather data to assess levels of public knowledge about cancer risk factors.\n",
            "RESULTS: There were 748 participants (648 women, 100 men). Mean age was 37 years (range: 18-74 years). For the public, 81% were concerned about developing cancer; however, 20% believed that cancer is unavoidable if a family history exists, 27% believed that >50% of cancers are inherited, and 54% believed that 10%-20% of cancers are inherited; 20% were unaware that risk increases with age. The top five risk factors listed by respondents were smoking (87%), diet (76%), genetics (47%), alcohol (42%), and obesity (33%). Only 32% of the public were aware that obesity is a risk factor, and 33% did not think the location of fat was important. Moreover, 29% and 48% believed that risk could be increased by wearing a tight bra and by a blow to the breast, respectively. In addition, 85% and 86% believed that stress and that mobile phones, respectively, \"strongly\" increase risk; 12% believed that luck is important in avoiding cancer; 35% thought that \"detox\" diets could reduce risk; and 61% believed that organic food reduces risk. The majority were aware that physical activity of 30 minutes per day can reduce risk.\n",
            "CONCLUSION: A sizable portion of the population is misinformed about cancer risk. Most participants were aware of classic risk factors (e.g., smoking, diet); however, many overestimated risk attributable to genetics, environment, and stress and underestimated age, obesity, and sunlight. One in seven participants believed that lifetime risk of cancer is not modifiable.\u001b[0m\n",
            "Thought:\u001b[32;1m\u001b[1;3mI now have a clearer understanding of the misconceptions surrounding the relationship between wearing a tight bra and breast cancer. The evidence suggests that many people hold myths about breast cancer causation, including the belief that wearing a tight bra increases risk. However, the actual risk factors for breast cancer are more closely related to genetics, age, hormonal factors, and lifestyle choices. \n",
            "\n",
            "Final Answer: There is no scientific evidence to support the claim that wearing a tight bra causes breast cancer. Research indicates that breast cancer risk is influenced by factors such as genetics, age, hormonal factors, and lifestyle choices, rather than the tightness of a bra. Many myths exist regarding breast cancer causation, and it is important to focus on evidence-based risk factors. If you have concerns about breast health, consulting a healthcare professional is advisable.\u001b[0m\n",
            "\n",
            "\u001b[1m> Finished chain.\u001b[0m\n",
            "\n",
            "\n",
            "\u001b[1m> Entering new AgentExecutor chain...\u001b[0m\n",
            "\u001b[32;1m\u001b[1;3m```json\n",
            "{\n",
            "    \"action\": \"DomainRAGInfo\",\n",
            "    \"action_input\": \"How is ductal carcinoma in situ (DCI) different from invasive ductal carcinoma?\"\n",
            "}\n",
            "```\u001b[0m1. **Invasiveness**: \n",
            "   - Ductal carcinoma in situ (DCIS) is a noninvasive condition where abnormal cells are found inside the breast duct but have not spread outside it.\n",
            "   - Invasive ductal carcinoma (IDC) is a type of breast cancer where the cancer cells have broken through the duct wall and invaded surrounding breast tissue.\n",
            "\n",
            "2. **Cancer Classification**: \n",
            "   - DCIS is classified as stage 0 breast cancer, meaning it is not considered cancer in the traditional sense since it does not have the ability to spread.\n",
            "   - IDC is classified as invasive breast cancer and can metastasize to other parts of the body.\n",
            "\n",
            "3. **Treatment Approach**: \n",
            "   - DCIS is almost always treated due to the uncertainty of which cases may progress to invasive cancer, often involving surgery and possibly radiation.\n",
            "   - IDC treatment may involve surgery, chemotherapy, radiation, and targeted therapies depending on the stage and characteristics of the cancer.\n",
            "\n",
            "4. **Risk of Progression**: \n",
            "   - DCIS has a risk of becoming invasive cancer, but not all cases will progress.\n",
            "   - IDC is already invasive and poses a higher risk of spreading to other tissues and organs.\n",
            "\n",
            "Understanding these differences is crucial for diagnosis, treatment planning, and patient management.\n",
            "\n",
            "Observation: \u001b[36;1m\u001b[1;3m1. **Invasiveness**: \n",
            "   - Ductal carcinoma in situ (DCIS) is a noninvasive condition where abnormal cells are found inside the breast duct but have not spread outside it.\n",
            "   - Invasive ductal carcinoma (IDC) is a type of breast cancer where the cancer cells have broken through the duct wall and invaded surrounding breast tissue.\n",
            "\n",
            "2. **Cancer Classification**: \n",
            "   - DCIS is classified as stage 0 breast cancer, meaning it is not considered cancer in the traditional sense since it does not have the ability to spread.\n",
            "   - IDC is classified as invasive breast cancer and can metastasize to other parts of the body.\n",
            "\n",
            "3. **Treatment Approach**: \n",
            "   - DCIS is almost always treated due to the uncertainty of which cases may progress to invasive cancer, often involving surgery and possibly radiation.\n",
            "   - IDC treatment may involve surgery, chemotherapy, radiation, and targeted therapies depending on the stage and characteristics of the cancer.\n",
            "\n",
            "4. **Risk of Progression**: \n",
            "   - DCIS has a risk of becoming invasive cancer, but not all cases will progress.\n",
            "   - IDC is already invasive and poses a higher risk of spreading to other tissues and organs.\n",
            "\n",
            "Understanding these differences is crucial for diagnosis, treatment planning, and patient management.\u001b[0m\n",
            "Thought:\u001b[32;1m\u001b[1;3m```json\n",
            "{\n",
            "    \"action\": \"Final Answer\",\n",
            "    \"action_input\": \"Ductal carcinoma in situ (DCIS) is a noninvasive condition where abnormal cells are found inside the breast duct but have not spread outside it, classified as stage 0 breast cancer. In contrast, invasive ductal carcinoma (IDC) is a type of breast cancer where the cancer cells have invaded surrounding breast tissue and can metastasize to other parts of the body. Treatment for DCIS often involves surgery and possibly radiation, while IDC treatment may include surgery, chemotherapy, radiation, and targeted therapies. DCIS has a risk of progression to invasive cancer, whereas IDC is already invasive and poses a higher risk of spreading.\"\n",
            "}\n",
            "```\u001b[0m\n",
            "\n",
            "\u001b[1m> Finished chain.\u001b[0m\n",
            "\n",
            "\n",
            "\u001b[1m> Entering new AgentExecutor chain...\u001b[0m\n",
            "\u001b[32;1m\u001b[1;3mI need to provide a more detailed and enriched answer regarding the differences between ductal carcinoma in situ (DCIS) and invasive ductal carcinoma (IDC), including their treatment options and risks. To do this, I will look for relevant information in PubMed documents.\n",
            "\n",
            "Action: PubMedRetriever  \n",
            "Action Input: \"Ductal carcinoma in situ vs invasive ductal carcinoma treatment and progression risk\"  \u001b[0mToo Many Requests, waiting for 1.60 seconds...\n",
            "\n",
            "Observation: \u001b[36;1m\u001b[1;3mPURPOSE: The current standard of treatment for ductal carcinoma in situ (DCIS) is surgery with or without adjuvant radiotherapy. With a growing debate about overdiagnosis and overtreatment of low-risk DCIS, active surveillance is being explored in several ongoing trials. We conducted a systematic review and meta-analysis to evaluate the recurrence of low-risk DCIS under various treatment approaches.\n",
            "METHODS: PubMed, Embase, Web of Science, and Cochrane were searched for studies reporting ipsilateral breast tumour event (IBTE), contralateral breast cancer (CBC), and breast cancer-specific survival (BCSS) rates at 5 and 10 years in low-risk DCIS. The primary outcome was invasive IBTE (iIBTE) defined as invasive progression in the ipsilateral breast.\n",
            "RESULTS: Thirty three eligible studies were identified, involving 47,696 women with low-risk DCIS. The pooled 5-year and 10-year iIBTE rates were 3.3% (95% confidence interval [CI]: 1.3, 8.1) and 5.9% (95% CI: 3.8, 9.0), respectively. The iIBTE rates were significantly lower in patients who underwent surgery compared to those who did not, at 5 years (3.5% vs. 9.0%, P = 0.003) and 10 years (6.4% vs. 22.7%, P = 0.008). Similarly, the 10-year BCSS rate was higher in the surgery group (96.0% vs. 99.6%, P = 0.010). In patients treated with breast-conserving surgery, additional radiotherapy significantly reduced IBTE risk, but not total-CBC risk.\n",
            "CONCLUSION: This review showed a lower risk of progression and better survival in women who received surgery and additional RT for low-risk DCIS. However, our findings were primarily based on observational studies, and should be confirmed with the results from the ongoing trials.\n",
            "\n",
            "BACKGROUND: The density of tumour-infiltrating lymphocytes (TILs) could be prognostic in ductal carcinoma in situ (DCIS). However, manual TIL quantification is time-consuming and suffers from interobserver and intraobserver variability. In this study, we developed a TIL-based computational pathology biomarker and evaluated its association with the risk of recurrence and benefit of adjuvant treatment in a clinical trial cohort.\n",
            "METHODS: In this retrospective cohort study, a computational pathology pipeline was developed to generate a TIL-based biomarker (CPath TIL categories). Subsequently, the signature underwent a masked independent validation on H&E-stained whole-section images of 755 patients with DCIS from the UK/ANZ DCIS randomised controlled trial. Specifically, continuous biomarker CPath TIL score was calculated as the average TIL density in the DCIS microenvironment and dichotomised into binary biomarker CPath TIL categories (CPath TIL-high vs CPath TIL-low) using the median value as a cutoff. The primary outcome was ipsilateral breast event (IBE; either recurrence of DCIS [DCIS-IBE] or invasive progression [I-IBE]). The Cox proportional hazards model was used to estimate the hazard ratio (HR).\n",
            "FINDINGS: CPath TIL-score was evaluable in 718 (95%) of 755 patients (151 IBEs). Patients with CPath TIL-high DCIS had a greater risk of IBE than those with CPath TIL-low DCIS (HR 2·10 [95% CI 1·39-3·18]; p=0·0004). The risk of I-IBE was greater in patients with CPath TIL-high DCIS than those with CPath TIL-low DCIS (3·09 [1·56-6·14]; p=0·0013), and the risk of DCIS-IBE was non-significantly higher in those with CPath TIL-high DCIS (1·61 [0·95-2·72]; p=0·077). A significant interaction (p=0·025) between CPath TIL categories and radiotherapy was observed with a greater magnitude of radiotherapy benefit in preventing IBE in CPath TIL-high DCIS (0·32 [0·19-0·54]) than CPath TIL-low DCIS (0·40 [0·20-0·81]).\n",
            "INTERPRETATION: High TIL density is associated with higher recurrence risk-particularly of invasive recurrence-and greater radiotherapy benefit in patients with DCIS. Our TIL-based computational pathology signature has a prognostic and predictive role in DCIS.\n",
            "FUNDING: National Cancer Institute under award number U01CA269181, Cancer Research UK (C569/A12061; C569/A16891), and the Breast Cancer Research Foundation, New York (NY, USA).\n",
            "\n",
            "BACKGROUND: Ductal Carcinoma In Situ (DCIS) can progress to invasive breast cancer, but most DCIS lesions never will. Therefore, four clinical trials (COMET, LORIS, LORETTA, AND LORD) test whether active surveillance for women with low-risk Ductal carcinoma In Situ is safe (E. S. Hwang et al., BMJ Open, 9: e026797, 2019, A. Francis et al., Eur J Cancer. 51: 2296-2303, 2015, Chizuko Kanbayashi et al. The international collaboration of active surveillance trials for low-risk DCIS (LORIS, LORD, COMET, LORETTA),  L. E. Elshof et al., Eur J Cancer, 51, 1497-510, 2015). Low-risk is defined as grade I or II DCIS. Because DCIS grade is a major eligibility criteria in these trials, it would be very helpful to assess DCIS grade on mammography, informed by grade assessed on DCIS histopathology in pre-surgery biopsies, since surgery will not be performed on a significant number of patients participating in these trials.\n",
            "OBJECTIVE: To assess the performance and clinical utility of a convolutional neural network (CNN) in discriminating high-risk (grade III) DCIS and/or Invasive Breast Cancer (IBC) from low-risk (grade I/II) DCIS based on mammographic features. We explored whether the CNN could be used as a decision support tool, from excluding high-risk patients for active surveillance.\n",
            "METHODS: In this single centre retrospective study, 464 patients diagnosed with DCIS based on pre-surgery biopsy between 2000 and 2014 were included. The collection of mammography images was partitioned on a patient-level into two subsets, one for training containing 80% of cases (371 cases, 681 images) and 20% (93 cases, 173 images) for testing. A deep learning model based on the U-Net CNN was trained and validated on 681 two-dimensional mammograms. Classification performance was assessed with the Area Under the Curve (AUC) receiver operating characteristic and predictive values on the test set for predicting high risk DCIS-and high-risk DCIS and/ or IBC from low-risk DCIS.\n",
            "RESULTS: When classifying DCIS as high-risk, the deep learning network achieved a Positive Predictive Value (PPV) of 0.40, Negative Predictive Value (NPV) of 0.91 and an AUC of 0.72 on the test dataset. For distinguishing high-risk and/or upstaged DCIS (occult invasive breast cancer) from low-risk DCIS a PPV of 0.80, a NPV of 0.84 and an AUC of 0.76 were achieved.\n",
            "CONCLUSION: For both scenarios (DCIS grade I/II vs. III, DCIS grade I/II vs. III and/or IBC) AUCs were high, 0.72 and 0.76, respectively, concluding that our convolutional neural network can discriminate low-grade from high-grade DCIS.\u001b[0m\n",
            "Thought:\u001b[32;1m\u001b[1;3mI have gathered detailed information regarding the differences between ductal carcinoma in situ (DCIS) and invasive ductal carcinoma (IDC), including treatment options and risks. \n",
            "\n",
            "Final Answer: Ductal carcinoma in situ (DCIS) is a noninvasive breast condition characterized by abnormal cells confined within the breast ducts, classified as stage 0 breast cancer. In contrast, invasive ductal carcinoma (IDC) involves cancer cells that have spread beyond the ducts into surrounding breast tissue and can metastasize to other parts of the body. \n",
            "\n",
            "The standard treatment for DCIS typically involves surgery, which may be followed by radiation therapy, especially in cases where breast-conserving surgery is performed. Recent studies suggest that active surveillance may be a viable option for low-risk DCIS patients, as many lesions may not progress to invasive cancer. A systematic review indicated that patients who underwent surgery had significantly lower rates of invasive progression compared to those who did not, with 5-year and 10-year invasive ipsilateral breast tumor event (iIBTE) rates of 3.3% and 5.9%, respectively.\n",
            "\n",
            "In contrast, IDC treatment often includes a combination of surgery, chemotherapy, radiation, and targeted therapies, reflecting its more aggressive nature. IDC poses a higher risk of metastasis and recurrence compared to DCIS. \n",
            "\n",
            "Additionally, the presence of tumor-infiltrating lymphocytes (TILs) in DCIS has been associated with a higher risk of recurrence, particularly invasive recurrence, and may influence the benefit of adjuvant treatments like radiotherapy. High TIL density correlates with a greater risk of ipsilateral breast events, emphasizing the need for careful monitoring and treatment planning in DCIS patients.\n",
            "\n",
            "Overall, while DCIS is a noninvasive condition with a generally favorable prognosis, IDC represents a more advanced stage of breast cancer requiring more aggressive treatment and management strategies.\u001b[0m\n",
            "\n",
            "\u001b[1m> Finished chain.\u001b[0m\n",
            "\n",
            "\n",
            "\u001b[1m> Entering new AgentExecutor chain...\u001b[0m\n",
            "\u001b[32;1m\u001b[1;3m```json\n",
            "{\n",
            "    \"action\": \"DomainRAGInfo\",\n",
            "    \"action_input\": \"current NCCN guidelines for sentinel lymph node biopsy in clinically node-negative patients\"\n",
            "}\n",
            "```\u001b[0mNo response available.\n",
            "\n",
            "Observation: \u001b[36;1m\u001b[1;3mNo response available.\u001b[0m\n",
            "Thought:\u001b[32;1m\u001b[1;3m```json\n",
            "{\n",
            "    \"action\": \"Final Answer\",\n",
            "    \"action_input\": \"I currently do not have access to the specific NCCN guidelines for sentinel lymph node biopsy in clinically node-negative patients. For the most accurate and up-to-date information, I recommend checking the official NCCN website or consulting a medical professional.\"\n",
            "}\n",
            "```\u001b[0m\n",
            "\n",
            "\u001b[1m> Finished chain.\u001b[0m\n",
            "\n",
            "\n",
            "\u001b[1m> Entering new AgentExecutor chain...\u001b[0m\n",
            "\u001b[32;1m\u001b[1;3mI need to find more detailed information about the NCCN guidelines for sentinel lymph node biopsy in clinically node-negative patients. This will help provide a more comprehensive answer. \n",
            "Action: PubMedRetriever\n",
            "Action Input: \"NCCN guidelines sentinel lymph node biopsy clinically node-negative patients\"\u001b[0mToo Many Requests, waiting for 3.20 seconds...\n",
            "\n",
            "Observation: \u001b[36;1m\u001b[1;3mThe diagnosis of occult inguinal lymph node metastasis in clinically node-negative invasive penile squamous cell carcinoma (PSCC) has remained a challenge, with substantial perioperative complications. The recent refinements in the technique of dynamic sentinel lymph node biopsy (DSLNB) demonstrated high diagnostic accuracy with considerably lower morbidity compared to conventional open modified/superficial inguinal lymph node dissection (ILND). Although DSLNB, if available, has been endorsed as the preferred method for nodal staging in patients with invasive PSCC and no palpable inguinal lymphadenopathy in the recent penile cancer guidelines, its utilization has been quite limited so far. Laparoscopic and robotic-assisted ILND have emerged as alternatives for nodal staging in this patient population and are shown to improve the rate of wound infections and postoperative pain. For management of nodal metastasis in patients with clinically palpable inguinal lymph nodes, minimally invasive ILND has shown promising results as well. Nonetheless, given the rarity of PSCC and the absence of prospective studies and clinical trials, nodal staging and treatment of nodal metastasis in clinical practice will likely continue to vary across the medical centers in the following years. In this review, we first summarize the evolution of DSLNB and minimally invasive ILND and discuss the advantages and drawbacks of each management strategy. We further discuss the remaining challenges and future perspectives in the management of inguinal lymph nodes in patients with PSCC.\n",
            "\n",
            "BACKGROUND: The specificity of sentinel lymph node biopsy (SLNB) for detecting lymph node metastasis in head and neck melanoma (HNM) is low under current National Comprehensive Cancer Network (NCCN) treatment guidelines.\n",
            "METHODS: Multiple machine learning (ML) algorithms were developed to identify HNM patients at very low risk of occult nodal metastasis using National Cancer Database (NCDB) data from 8466 clinically node negative HNM patients who underwent SLNB. SLNB performance under NCCN guidelines and ML algorithm recommendations was compared on independent test data from the NCDB (n = 2117) and an academic medical center (n = 96).\n",
            "RESULTS: The top-performing ML algorithm (AUC = 0.734) recommendations obtained significantly higher specificity compared to the NCCN guidelines in both internal (25.8% vs. 11.3%, p < 0.001) and external test populations (30.1% vs. 7.1%, p < 0.001), while achieving sensitivity >97%.\n",
            "CONCLUSION: Machine learning can identify clinically node negative HNM patients at very low risk of nodal metastasis, who may not benefit from SLNB.\n",
            "\n",
            "Sentinel lymphadenectomy is an acceptable surgical technique for axillary staging among patients with clinically node-negative stage I or stage II breast cancer with primary invasive tumors measuring less than 5 cm. Patient selection and mapping team experience are critical factors for mapping success and accuracy. In the 2002 NCCN guidelines, exclusion criteria for sentinel node mapping include tumor multicentricity, the use of preoperative (neoadjuvant) chemotherapy or hormonal therapy, and a large excision (more than 6 cm) of the primary tumor performed before mapping. Future studies will clarify whether these exclusions are overly restrictive. Until then, the NCCN guidelines present a conservative perspective on sentinel lymphadenectomy, confirming that complete level I or level II axillary lymph node dissection remains the gold standard for breast cancer axillary staging.\u001b[0m\n",
            "Thought:\u001b[32;1m\u001b[1;3mI now have detailed information regarding the NCCN guidelines for sentinel lymph node biopsy (SLNB) in clinically node-negative patients, particularly in the context of various cancers such as melanoma, breast cancer, and penile squamous cell carcinoma. This information highlights the evolving nature of SLNB techniques and the importance of patient selection, as well as the potential for machine learning to improve the identification of patients who may not benefit from SLNB. \n",
            "\n",
            "Final Answer: The NCCN guidelines for sentinel lymph node biopsy (SLNB) in clinically node-negative patients emphasize the importance of patient selection and mapping team experience. For instance, in breast cancer, SLNB is acceptable for stage I or II patients with invasive tumors under 5 cm, but certain exclusion criteria apply, such as tumor multicentricity and prior chemotherapy. In melanoma, machine learning algorithms have shown promise in identifying patients at very low risk of nodal metastasis, potentially reducing unnecessary SLNB procedures. Overall, while SLNB is endorsed in specific contexts, the guidelines remain conservative, advocating for complete axillary lymph node dissection as the gold standard for staging. For the most accurate and up-to-date information, consulting the official NCCN website or a medical professional is recommended.\u001b[0m\n",
            "\n",
            "\u001b[1m> Finished chain.\u001b[0m\n"
          ]
        }
      ]
    }
  ]
}
